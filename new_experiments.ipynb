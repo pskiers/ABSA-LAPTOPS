{
 "cells": [
  {
   "cell_type": "code",
   "execution_count": 1,
   "metadata": {},
   "outputs": [],
   "source": [
    "import torch\n",
    "import torch.nn as nn\n",
    "import torchmetrics\n",
    "from torch.utils.data import DataLoader\n",
    "\n",
    "from dataset import get_sentiment_detection_dataset, get_sentiment_classification_dataset\n",
    "from models import ALMBert, BasicBert\n",
    "from trainer import Trainer"
   ]
  },
  {
   "attachments": {},
   "cell_type": "markdown",
   "metadata": {},
   "source": [
    "# Basic Bert model experiments"
   ]
  },
  {
   "attachments": {},
   "cell_type": "markdown",
   "metadata": {},
   "source": [
    "### Aspect sentimen detection and classification"
   ]
  },
  {
   "cell_type": "code",
   "execution_count": 4,
   "metadata": {},
   "outputs": [
    {
     "name": "stderr",
     "output_type": "stream",
     "text": [
      "Some weights of the model checkpoint at bert-base-cased were not used when initializing BertModel: ['cls.predictions.bias', 'cls.predictions.transform.LayerNorm.bias', 'cls.seq_relationship.bias', 'cls.predictions.transform.LayerNorm.weight', 'cls.predictions.decoder.weight', 'cls.predictions.transform.dense.weight', 'cls.seq_relationship.weight', 'cls.predictions.transform.dense.bias']\n",
      "- This IS expected if you are initializing BertModel from the checkpoint of a model trained on another task or with another architecture (e.g. initializing a BertForSequenceClassification model from a BertForPreTraining model).\n",
      "- This IS NOT expected if you are initializing BertModel from the checkpoint of a model that you expect to be exactly identical (initializing a BertForSequenceClassification model from a BertForSequenceClassification model).\n",
      "Some weights of the model checkpoint at bert-base-cased were not used when initializing BertModel: ['cls.predictions.bias', 'cls.predictions.transform.LayerNorm.bias', 'cls.seq_relationship.bias', 'cls.predictions.transform.LayerNorm.weight', 'cls.predictions.decoder.weight', 'cls.predictions.transform.dense.weight', 'cls.seq_relationship.weight', 'cls.predictions.transform.dense.bias']\n",
      "- This IS expected if you are initializing BertModel from the checkpoint of a model trained on another task or with another architecture (e.g. initializing a BertForSequenceClassification model from a BertForPreTraining model).\n",
      "- This IS NOT expected if you are initializing BertModel from the checkpoint of a model that you expect to be exactly identical (initializing a BertForSequenceClassification model from a BertForSequenceClassification model).\n",
      "Truncation was not explicitly activated but `max_length` is provided a specific value, please use `truncation=True` to explicitly truncate examples to max length. Defaulting to 'longest_first' truncation strategy. If you encode pairs of sequences (GLUE-style) with the tokenizer you can select this strategy more precisely by providing a specific strategy to `truncation`.\n",
      "/home/pawel/anaconda3/envs/ssne/lib/python3.10/site-packages/transformers/tokenization_utils_base.py:2336: FutureWarning: The `pad_to_max_length` argument is deprecated and will be removed in a future version, use `padding=True` or `padding='longest'` to pad to the longest sequence in the batch, or use `padding='max_length'` to pad to a max length. In this case, you can give a specific length with `max_length` (e.g. `max_length=45`) or leave max_length to None to pad to the maximal input size of the model (e.g. 512 for Bert).\n",
      "  warnings.warn(\n"
     ]
    },
    {
     "name": "stdout",
     "output_type": "stream",
     "text": [
      "Epoch: 0\t Train loss: 1.14\t metrics: <function accuracy at 0x7f63249a3e20>: 0.5412\t \n",
      " Validation loss: 0.9534\t metrics: <function accuracy at 0x7f63249a3e20>: 0.6571\t \n",
      "Epoch: 1\t Train loss: 0.9419\t metrics: <function accuracy at 0x7f63249a3e20>: 0.619\t \n",
      " Validation loss: 0.883\t metrics: <function accuracy at 0x7f63249a3e20>: 0.6293\t \n",
      "Epoch: 2\t Train loss: 0.8774\t metrics: <function accuracy at 0x7f63249a3e20>: 0.6234\t \n",
      " Validation loss: 0.8705\t metrics: <function accuracy at 0x7f63249a3e20>: 0.6293\t \n",
      "Epoch: 3\t Train loss: 0.8459\t metrics: <function accuracy at 0x7f63249a3e20>: 0.6275\t \n",
      " Validation loss: 0.8919\t metrics: <function accuracy at 0x7f63249a3e20>: 0.5842\t \n",
      "Epoch: 4\t Train loss: 0.8257\t metrics: <function accuracy at 0x7f63249a3e20>: 0.6314\t \n",
      " Validation loss: 0.8719\t metrics: <function accuracy at 0x7f63249a3e20>: 0.605\t \n",
      "Epoch: 5\t Train loss: 0.8082\t metrics: <function accuracy at 0x7f63249a3e20>: 0.6364\t \n",
      " Validation loss: 0.8744\t metrics: <function accuracy at 0x7f63249a3e20>: 0.5981\t \n",
      "Epoch: 6\t Train loss: 0.7975\t metrics: <function accuracy at 0x7f63249a3e20>: 0.6366\t \n",
      " Validation loss: 0.8951\t metrics: <function accuracy at 0x7f63249a3e20>: 0.6085\t \n",
      "Epoch: 7\t Train loss: 0.7861\t metrics: <function accuracy at 0x7f63249a3e20>: 0.6466\t \n",
      " Validation loss: 0.9125\t metrics: <function accuracy at 0x7f63249a3e20>: 0.5955\t \n",
      "Epoch: 8\t Train loss: 0.7716\t metrics: <function accuracy at 0x7f63249a3e20>: 0.6379\t \n",
      " Validation loss: 0.9349\t metrics: <function accuracy at 0x7f63249a3e20>: 0.5911\t \n",
      "Epoch: 9\t Train loss: 0.7655\t metrics: <function accuracy at 0x7f63249a3e20>: 0.6477\t \n",
      " Validation loss: 0.9547\t metrics: <function accuracy at 0x7f63249a3e20>: 0.566\t \n",
      "Test loss: 1.025\t metrics: <function accuracy at 0x7f63249a3e20>: 0.532\t\n"
     ]
    }
   ],
   "source": [
    "train_ds, valid_ds, test_ds = get_sentiment_classification_dataset(5000)\n",
    "\n",
    "BATCH = 64\n",
    "\n",
    "train_dl = DataLoader(dataset=train_ds, batch_size=BATCH, drop_last=True, shuffle=True)\n",
    "valid_dl = DataLoader(dataset=valid_ds, batch_size=BATCH, drop_last=True, shuffle=False)\n",
    "test_dl = DataLoader(dataset=test_ds, batch_size=BATCH, drop_last=False, shuffle=False)\n",
    "\n",
    "LR = 0.001\n",
    "\n",
    "model = BasicBert(4)\n",
    "optimizer = torch.optim.Adam(model.parameters(), lr=LR)\n",
    "criterion = nn.functional.cross_entropy\n",
    "metrics = [\n",
    "    torchmetrics.functional.accuracy,\n",
    "]\n",
    "\n",
    "trainer = Trainer(\n",
    "    model=model,\n",
    "    optim=optimizer,\n",
    "    loss=criterion,\n",
    "    verbose=True,\n",
    "    metrics=metrics,\n",
    "    train_dataloader=train_dl,\n",
    "    valid_dataloader=valid_dl,\n",
    "    test_dataloader=test_dl\n",
    ")\n",
    "\n",
    "trainer.train(100)"
   ]
  },
  {
   "attachments": {},
   "cell_type": "markdown",
   "metadata": {},
   "source": [
    "### Aspect's sentimen classification"
   ]
  },
  {
   "cell_type": "code",
   "execution_count": 5,
   "metadata": {},
   "outputs": [
    {
     "name": "stderr",
     "output_type": "stream",
     "text": [
      "Some weights of the model checkpoint at bert-base-cased were not used when initializing BertModel: ['cls.predictions.bias', 'cls.predictions.transform.LayerNorm.bias', 'cls.seq_relationship.bias', 'cls.predictions.transform.LayerNorm.weight', 'cls.predictions.decoder.weight', 'cls.predictions.transform.dense.weight', 'cls.seq_relationship.weight', 'cls.predictions.transform.dense.bias']\n",
      "- This IS expected if you are initializing BertModel from the checkpoint of a model trained on another task or with another architecture (e.g. initializing a BertForSequenceClassification model from a BertForPreTraining model).\n",
      "- This IS NOT expected if you are initializing BertModel from the checkpoint of a model that you expect to be exactly identical (initializing a BertForSequenceClassification model from a BertForSequenceClassification model).\n",
      "Truncation was not explicitly activated but `max_length` is provided a specific value, please use `truncation=True` to explicitly truncate examples to max length. Defaulting to 'longest_first' truncation strategy. If you encode pairs of sequences (GLUE-style) with the tokenizer you can select this strategy more precisely by providing a specific strategy to `truncation`.\n",
      "/home/pawel/anaconda3/envs/ssne/lib/python3.10/site-packages/transformers/tokenization_utils_base.py:2336: FutureWarning: The `pad_to_max_length` argument is deprecated and will be removed in a future version, use `padding=True` or `padding='longest'` to pad to the longest sequence in the batch, or use `padding='max_length'` to pad to a max length. In this case, you can give a specific length with `max_length` (e.g. `max_length=45`) or leave max_length to None to pad to the maximal input size of the model (e.g. 512 for Bert).\n",
      "  warnings.warn(\n"
     ]
    },
    {
     "name": "stdout",
     "output_type": "stream",
     "text": [
      "Epoch: 0\t Train loss: 0.849\t metrics: <function accuracy at 0x7f63249a3e20>: 0.6522\t \n",
      " Validation loss: 0.6222\t metrics: <function accuracy at 0x7f63249a3e20>: 0.7786\t \n",
      "Epoch: 1\t Train loss: 0.5666\t metrics: <function accuracy at 0x7f63249a3e20>: 0.7928\t \n",
      " Validation loss: 0.5324\t metrics: <function accuracy at 0x7f63249a3e20>: 0.8099\t \n",
      "Epoch: 2\t Train loss: 0.517\t metrics: <function accuracy at 0x7f63249a3e20>: 0.8251\t \n",
      " Validation loss: 0.5252\t metrics: <function accuracy at 0x7f63249a3e20>: 0.8151\t \n",
      "Epoch: 3\t Train loss: 0.4738\t metrics: <function accuracy at 0x7f63249a3e20>: 0.8311\t \n",
      " Validation loss: 0.5744\t metrics: <function accuracy at 0x7f63249a3e20>: 0.8047\t \n",
      "Epoch: 4\t Train loss: 0.4252\t metrics: <function accuracy at 0x7f63249a3e20>: 0.8533\t \n",
      " Validation loss: 0.5238\t metrics: <function accuracy at 0x7f63249a3e20>: 0.8229\t \n",
      "Epoch: 5\t Train loss: 0.3862\t metrics: <function accuracy at 0x7f63249a3e20>: 0.8624\t \n",
      " Validation loss: 0.5253\t metrics: <function accuracy at 0x7f63249a3e20>: 0.8203\t \n",
      "Test loss: 0.5279\t metrics: <function accuracy at 0x7f63249a3e20>: 0.8102\t\n"
     ]
    }
   ],
   "source": [
    "train_ds, valid_ds, test_ds = get_sentiment_classification_dataset(0)\n",
    "\n",
    "BATCH = 64\n",
    "\n",
    "train_dl = DataLoader(dataset=train_ds, batch_size=BATCH, drop_last=True, shuffle=True)\n",
    "valid_dl = DataLoader(dataset=valid_ds, batch_size=BATCH, drop_last=True, shuffle=False)\n",
    "test_dl = DataLoader(dataset=test_ds, batch_size=BATCH, drop_last=False, shuffle=False)\n",
    "\n",
    "LR = 0.001\n",
    "\n",
    "model = BasicBert(3)\n",
    "optimizer = torch.optim.Adam(model.parameters(), lr=LR)\n",
    "criterion = nn.functional.cross_entropy\n",
    "metrics = [\n",
    "    torchmetrics.functional.accuracy,\n",
    "]\n",
    "\n",
    "trainer = Trainer(\n",
    "    model=model,\n",
    "    optim=optimizer,\n",
    "    loss=criterion,\n",
    "    verbose=True,\n",
    "    metrics=metrics,\n",
    "    train_dataloader=train_dl,\n",
    "    valid_dataloader=valid_dl,\n",
    "    test_dataloader=test_dl\n",
    ")\n",
    "\n",
    "trainer.train(100)"
   ]
  },
  {
   "attachments": {},
   "cell_type": "markdown",
   "metadata": {},
   "source": [
    "### Aspect sentimen detection"
   ]
  },
  {
   "cell_type": "code",
   "execution_count": 3,
   "metadata": {},
   "outputs": [
    {
     "name": "stderr",
     "output_type": "stream",
     "text": [
      "Some weights of the model checkpoint at bert-base-cased were not used when initializing BertModel: ['cls.predictions.transform.LayerNorm.weight', 'cls.predictions.transform.dense.weight', 'cls.predictions.transform.LayerNorm.bias', 'cls.seq_relationship.weight', 'cls.predictions.transform.dense.bias', 'cls.predictions.decoder.weight', 'cls.predictions.bias', 'cls.seq_relationship.bias']\n",
      "- This IS expected if you are initializing BertModel from the checkpoint of a model trained on another task or with another architecture (e.g. initializing a BertForSequenceClassification model from a BertForPreTraining model).\n",
      "- This IS NOT expected if you are initializing BertModel from the checkpoint of a model that you expect to be exactly identical (initializing a BertForSequenceClassification model from a BertForSequenceClassification model).\n",
      "Truncation was not explicitly activated but `max_length` is provided a specific value, please use `truncation=True` to explicitly truncate examples to max length. Defaulting to 'longest_first' truncation strategy. If you encode pairs of sequences (GLUE-style) with the tokenizer you can select this strategy more precisely by providing a specific strategy to `truncation`.\n",
      "/home/pawel/anaconda3/envs/ssne/lib/python3.10/site-packages/transformers/tokenization_utils_base.py:2336: FutureWarning: The `pad_to_max_length` argument is deprecated and will be removed in a future version, use `padding=True` or `padding='longest'` to pad to the longest sequence in the batch, or use `padding='max_length'` to pad to a max length. In this case, you can give a specific length with `max_length` (e.g. `max_length=45`) or leave max_length to None to pad to the maximal input size of the model (e.g. 512 for Bert).\n",
      "  warnings.warn(\n"
     ]
    },
    {
     "name": "stdout",
     "output_type": "stream",
     "text": [
      "Epoch: 0\t Train loss: 0.6688\t metrics: <function accuracy at 0x7f79289a3ac0>: 0.6197\t <function recall at 0x7f79289e88b0>: 0.6197\t <function precision at 0x7f79289e8700>: 0.6197\t \n",
      " Validation loss: 0.6426\t metrics: <function accuracy at 0x7f79289a3ac0>: 0.658\t <function recall at 0x7f79289e88b0>: 0.658\t <function precision at 0x7f79289e8700>: 0.658\t \n",
      "Epoch: 1\t Train loss: 0.6526\t metrics: <function accuracy at 0x7f79289a3ac0>: 0.6368\t <function recall at 0x7f79289e88b0>: 0.6368\t <function precision at 0x7f79289e8700>: 0.6368\t \n",
      " Validation loss: 0.6414\t metrics: <function accuracy at 0x7f79289a3ac0>: 0.6458\t <function recall at 0x7f79289e88b0>: 0.6458\t <function precision at 0x7f79289e8700>: 0.6458\t \n",
      "Epoch: 2\t Train loss: 0.6446\t metrics: <function accuracy at 0x7f79289a3ac0>: 0.6448\t <function recall at 0x7f79289e88b0>: 0.6448\t <function precision at 0x7f79289e8700>: 0.6448\t \n",
      " Validation loss: 0.643\t metrics: <function accuracy at 0x7f79289a3ac0>: 0.6415\t <function recall at 0x7f79289e88b0>: 0.6415\t <function precision at 0x7f79289e8700>: 0.6415\t \n",
      "Epoch: 3\t Train loss: 0.6375\t metrics: <function accuracy at 0x7f79289a3ac0>: 0.6504\t <function recall at 0x7f79289e88b0>: 0.6504\t <function precision at 0x7f79289e8700>: 0.6504\t \n",
      " Validation loss: 0.6462\t metrics: <function accuracy at 0x7f79289a3ac0>: 0.6502\t <function recall at 0x7f79289e88b0>: 0.6502\t <function precision at 0x7f79289e8700>: 0.6502\t \n",
      "Epoch: 4\t Train loss: 0.6358\t metrics: <function accuracy at 0x7f79289a3ac0>: 0.6541\t <function recall at 0x7f79289e88b0>: 0.6541\t <function precision at 0x7f79289e8700>: 0.6541\t \n",
      " Validation loss: 0.6523\t metrics: <function accuracy at 0x7f79289a3ac0>: 0.6424\t <function recall at 0x7f79289e88b0>: 0.6424\t <function precision at 0x7f79289e8700>: 0.6424\t \n",
      "Test loss: 0.6769\t metrics: <function accuracy at 0x7f79289a3ac0>: 0.5946\t<function recall at 0x7f79289e88b0>: 0.5946\t<function precision at 0x7f79289e8700>: 0.5946\t\n"
     ]
    }
   ],
   "source": [
    "train_ds, valid_ds, test_ds = get_sentiment_detection_dataset(5000)\n",
    "\n",
    "BATCH = 64\n",
    "\n",
    "train_dl = DataLoader(dataset=train_ds, batch_size=BATCH, drop_last=True, shuffle=True)\n",
    "valid_dl = DataLoader(dataset=valid_ds, batch_size=BATCH, drop_last=True, shuffle=False)\n",
    "test_dl = DataLoader(dataset=test_ds, batch_size=BATCH, drop_last=False, shuffle=False)\n",
    "\n",
    "model = BasicBert(2)\n",
    "\n",
    "LR = 0.001\n",
    "\n",
    "optimizer = torch.optim.Adam(model.parameters(), lr=LR)\n",
    "criterion = nn.functional.cross_entropy\n",
    "metrics = [\n",
    "    torchmetrics.functional.accuracy,\n",
    "]\n",
    "\n",
    "trainer = Trainer(\n",
    "    model=model,\n",
    "    optim=optimizer,\n",
    "    loss=criterion,\n",
    "    verbose=True,\n",
    "    metrics=metrics,\n",
    "    train_dataloader=train_dl,\n",
    "    valid_dataloader=valid_dl,\n",
    "    test_dataloader=test_dl\n",
    ")\n",
    "\n",
    "trainer.train(100)"
   ]
  },
  {
   "attachments": {},
   "cell_type": "markdown",
   "metadata": {},
   "source": [
    "# ALM-Bert model experiments"
   ]
  },
  {
   "attachments": {},
   "cell_type": "markdown",
   "metadata": {},
   "source": [
    "### Aspect sentimen detection and classification"
   ]
  },
  {
   "cell_type": "code",
   "execution_count": 4,
   "metadata": {},
   "outputs": [
    {
     "name": "stderr",
     "output_type": "stream",
     "text": [
      "Some weights of the model checkpoint at bert-base-cased were not used when initializing BertModel: ['cls.predictions.transform.LayerNorm.weight', 'cls.predictions.transform.dense.weight', 'cls.predictions.transform.LayerNorm.bias', 'cls.seq_relationship.weight', 'cls.predictions.transform.dense.bias', 'cls.predictions.decoder.weight', 'cls.predictions.bias', 'cls.seq_relationship.bias']\n",
      "- This IS expected if you are initializing BertModel from the checkpoint of a model trained on another task or with another architecture (e.g. initializing a BertForSequenceClassification model from a BertForPreTraining model).\n",
      "- This IS NOT expected if you are initializing BertModel from the checkpoint of a model that you expect to be exactly identical (initializing a BertForSequenceClassification model from a BertForSequenceClassification model).\n",
      "Truncation was not explicitly activated but `max_length` is provided a specific value, please use `truncation=True` to explicitly truncate examples to max length. Defaulting to 'longest_first' truncation strategy. If you encode pairs of sequences (GLUE-style) with the tokenizer you can select this strategy more precisely by providing a specific strategy to `truncation`.\n",
      "/home/pawel/anaconda3/envs/ssne/lib/python3.10/site-packages/transformers/tokenization_utils_base.py:2336: FutureWarning: The `pad_to_max_length` argument is deprecated and will be removed in a future version, use `padding=True` or `padding='longest'` to pad to the longest sequence in the batch, or use `padding='max_length'` to pad to a max length. In this case, you can give a specific length with `max_length` (e.g. `max_length=45`) or leave max_length to None to pad to the maximal input size of the model (e.g. 512 for Bert).\n",
      "  warnings.warn(\n"
     ]
    },
    {
     "name": "stdout",
     "output_type": "stream",
     "text": [
      "Epoch: 0\t Train loss: 0.9571\t metrics: <function accuracy at 0x7f79289a3ac0>: 0.6194\t \n",
      " Validation loss: 0.8872\t metrics: <function accuracy at 0x7f79289a3ac0>: 0.6432\t \n",
      "Test loss: 0.952\t metrics: <function accuracy at 0x7f79289a3ac0>: 0.5996\t\n"
     ]
    }
   ],
   "source": [
    "train_ds, valid_ds, test_ds = get_sentiment_classification_dataset(5000)\n",
    "\n",
    "BATCH = 64\n",
    "\n",
    "train_dl = DataLoader(dataset=train_ds, batch_size=BATCH, drop_last=True, shuffle=True)\n",
    "valid_dl = DataLoader(dataset=valid_ds, batch_size=BATCH, drop_last=True, shuffle=False)\n",
    "test_dl = DataLoader(dataset=test_ds, batch_size=BATCH, drop_last=False, shuffle=False)\n",
    "\n",
    "LR = 0.001\n",
    "\n",
    "model = ALMBert(4)\n",
    "optimizer = torch.optim.Adam(model.parameters(), lr=LR)\n",
    "criterion = nn.functional.cross_entropy\n",
    "metrics = [\n",
    "    torchmetrics.functional.accuracy,\n",
    "]\n",
    "\n",
    "trainer = Trainer(\n",
    "    model=model,\n",
    "    optim=optimizer,\n",
    "    loss=criterion,\n",
    "    verbose=True,\n",
    "    metrics=metrics,\n",
    "    train_dataloader=train_dl,\n",
    "    valid_dataloader=valid_dl,\n",
    "    test_dataloader=test_dl\n",
    ")\n",
    "\n",
    "trainer.train(100)"
   ]
  },
  {
   "attachments": {},
   "cell_type": "markdown",
   "metadata": {},
   "source": [
    "### Aspect's sentimen classification"
   ]
  },
  {
   "cell_type": "code",
   "execution_count": 5,
   "metadata": {},
   "outputs": [
    {
     "name": "stderr",
     "output_type": "stream",
     "text": [
      "Some weights of the model checkpoint at bert-base-cased were not used when initializing BertModel: ['cls.predictions.transform.LayerNorm.weight', 'cls.predictions.transform.dense.weight', 'cls.predictions.transform.LayerNorm.bias', 'cls.seq_relationship.weight', 'cls.predictions.transform.dense.bias', 'cls.predictions.decoder.weight', 'cls.predictions.bias', 'cls.seq_relationship.bias']\n",
      "- This IS expected if you are initializing BertModel from the checkpoint of a model trained on another task or with another architecture (e.g. initializing a BertForSequenceClassification model from a BertForPreTraining model).\n",
      "- This IS NOT expected if you are initializing BertModel from the checkpoint of a model that you expect to be exactly identical (initializing a BertForSequenceClassification model from a BertForSequenceClassification model).\n",
      "Truncation was not explicitly activated but `max_length` is provided a specific value, please use `truncation=True` to explicitly truncate examples to max length. Defaulting to 'longest_first' truncation strategy. If you encode pairs of sequences (GLUE-style) with the tokenizer you can select this strategy more precisely by providing a specific strategy to `truncation`.\n",
      "/home/pawel/anaconda3/envs/ssne/lib/python3.10/site-packages/transformers/tokenization_utils_base.py:2336: FutureWarning: The `pad_to_max_length` argument is deprecated and will be removed in a future version, use `padding=True` or `padding='longest'` to pad to the longest sequence in the batch, or use `padding='max_length'` to pad to a max length. In this case, you can give a specific length with `max_length` (e.g. `max_length=45`) or leave max_length to None to pad to the maximal input size of the model (e.g. 512 for Bert).\n",
      "  warnings.warn(\n"
     ]
    },
    {
     "name": "stdout",
     "output_type": "stream",
     "text": [
      "Epoch: 0\t Train loss: 0.706\t metrics: <function accuracy at 0x7f79289a3ac0>: 0.7303\t <function recall at 0x7f79289e88b0>: 0.7303\t <function precision at 0x7f79289e8700>: 0.7303\t \n",
      " Validation loss: 0.6449\t metrics: <function accuracy at 0x7f79289a3ac0>: 0.7943\t <function recall at 0x7f79289e88b0>: 0.7943\t <function precision at 0x7f79289e8700>: 0.7943\t \n",
      "Epoch: 1\t Train loss: 0.4579\t metrics: <function accuracy at 0x7f79289a3ac0>: 0.8397\t <function recall at 0x7f79289e88b0>: 0.8397\t <function precision at 0x7f79289e8700>: 0.8397\t \n",
      " Validation loss: 0.603\t metrics: <function accuracy at 0x7f79289a3ac0>: 0.8125\t <function recall at 0x7f79289e88b0>: 0.8125\t <function precision at 0x7f79289e8700>: 0.8125\t \n",
      "Epoch: 2\t Train loss: 0.4371\t metrics: <function accuracy at 0x7f79289a3ac0>: 0.8342\t <function recall at 0x7f79289e88b0>: 0.8342\t <function precision at 0x7f79289e8700>: 0.8342\t \n",
      " Validation loss: 0.5229\t metrics: <function accuracy at 0x7f79289a3ac0>: 0.8333\t <function recall at 0x7f79289e88b0>: 0.8333\t <function precision at 0x7f79289e8700>: 0.8333\t \n",
      "Epoch: 3\t Train loss: 0.3843\t metrics: <function accuracy at 0x7f79289a3ac0>: 0.8553\t <function recall at 0x7f79289e88b0>: 0.8553\t <function precision at 0x7f79289e8700>: 0.8553\t \n",
      " Validation loss: 0.6214\t metrics: <function accuracy at 0x7f79289a3ac0>: 0.7995\t <function recall at 0x7f79289e88b0>: 0.7995\t <function precision at 0x7f79289e8700>: 0.7995\t \n",
      "Epoch: 4\t Train loss: 0.3293\t metrics: <function accuracy at 0x7f79289a3ac0>: 0.876\t <function recall at 0x7f79289e88b0>: 0.876\t <function precision at 0x7f79289e8700>: 0.876\t \n",
      " Validation loss: 0.6313\t metrics: <function accuracy at 0x7f79289a3ac0>: 0.8177\t <function recall at 0x7f79289e88b0>: 0.8177\t <function precision at 0x7f79289e8700>: 0.8177\t \n",
      "Epoch: 5\t Train loss: 0.3257\t metrics: <function accuracy at 0x7f79289a3ac0>: 0.8765\t <function recall at 0x7f79289e88b0>: 0.8765\t <function precision at 0x7f79289e8700>: 0.8765\t \n",
      " Validation loss: 0.6248\t metrics: <function accuracy at 0x7f79289a3ac0>: 0.8125\t <function recall at 0x7f79289e88b0>: 0.8125\t <function precision at 0x7f79289e8700>: 0.8125\t \n",
      "Test loss: 0.4846\t metrics: <function accuracy at 0x7f79289a3ac0>: 0.8314\t<function recall at 0x7f79289e88b0>: 0.8314\t<function precision at 0x7f79289e8700>: 0.8314\t\n"
     ]
    }
   ],
   "source": [
    "train_ds, valid_ds, test_ds = get_sentiment_classification_dataset(0)\n",
    "\n",
    "BATCH = 64\n",
    "\n",
    "train_dl = DataLoader(dataset=train_ds, batch_size=BATCH, drop_last=True, shuffle=True)\n",
    "valid_dl = DataLoader(dataset=valid_ds, batch_size=BATCH, drop_last=True, shuffle=False)\n",
    "test_dl = DataLoader(dataset=test_ds, batch_size=BATCH, drop_last=False, shuffle=False)\n",
    "\n",
    "LR = 0.001\n",
    "\n",
    "model = ALMBert(3)\n",
    "optimizer = torch.optim.Adam(model.parameters(), lr=LR)\n",
    "criterion = nn.functional.cross_entropy\n",
    "metrics = [\n",
    "    torchmetrics.functional.accuracy,\n",
    "]\n",
    "\n",
    "trainer = Trainer(\n",
    "    model=model,\n",
    "    optim=optimizer,\n",
    "    loss=criterion,\n",
    "    verbose=True,\n",
    "    metrics=metrics,\n",
    "    train_dataloader=train_dl,\n",
    "    valid_dataloader=valid_dl,\n",
    "    test_dataloader=test_dl\n",
    ")\n",
    "\n",
    "trainer.train(100)"
   ]
  },
  {
   "attachments": {},
   "cell_type": "markdown",
   "metadata": {},
   "source": [
    "### Aspect sentimen detection"
   ]
  },
  {
   "cell_type": "code",
   "execution_count": 8,
   "metadata": {},
   "outputs": [
    {
     "name": "stderr",
     "output_type": "stream",
     "text": [
      "Some weights of the model checkpoint at bert-base-cased were not used when initializing BertModel: ['cls.predictions.transform.LayerNorm.weight', 'cls.predictions.transform.dense.weight', 'cls.predictions.transform.LayerNorm.bias', 'cls.seq_relationship.weight', 'cls.predictions.transform.dense.bias', 'cls.predictions.decoder.weight', 'cls.predictions.bias', 'cls.seq_relationship.bias']\n",
      "- This IS expected if you are initializing BertModel from the checkpoint of a model trained on another task or with another architecture (e.g. initializing a BertForSequenceClassification model from a BertForPreTraining model).\n",
      "- This IS NOT expected if you are initializing BertModel from the checkpoint of a model that you expect to be exactly identical (initializing a BertForSequenceClassification model from a BertForSequenceClassification model).\n",
      "Truncation was not explicitly activated but `max_length` is provided a specific value, please use `truncation=True` to explicitly truncate examples to max length. Defaulting to 'longest_first' truncation strategy. If you encode pairs of sequences (GLUE-style) with the tokenizer you can select this strategy more precisely by providing a specific strategy to `truncation`.\n",
      "/home/pawel/anaconda3/envs/ssne/lib/python3.10/site-packages/transformers/tokenization_utils_base.py:2336: FutureWarning: The `pad_to_max_length` argument is deprecated and will be removed in a future version, use `padding=True` or `padding='longest'` to pad to the longest sequence in the batch, or use `padding='max_length'` to pad to a max length. In this case, you can give a specific length with `max_length` (e.g. `max_length=45`) or leave max_length to None to pad to the maximal input size of the model (e.g. 512 for Bert).\n",
      "  warnings.warn(\n"
     ]
    },
    {
     "name": "stdout",
     "output_type": "stream",
     "text": [
      "Epoch: 0\t Train loss: 0.6624\t metrics: <function accuracy at 0x7f79289a3ac0>: 0.6157\t \n",
      " Validation loss: 0.6377\t metrics: <function accuracy at 0x7f79289a3ac0>: 0.6406\t \n",
      "Epoch: 1\t Train loss: 0.6496\t metrics: <function accuracy at 0x7f79289a3ac0>: 0.6372\t \n",
      " Validation loss: 0.647\t metrics: <function accuracy at 0x7f79289a3ac0>: 0.638\t \n",
      "Epoch: 2\t Train loss: 0.6421\t metrics: <function accuracy at 0x7f79289a3ac0>: 0.6395\t \n",
      " Validation loss: 0.6474\t metrics: <function accuracy at 0x7f79289a3ac0>: 0.658\t \n",
      "Epoch: 3\t Train loss: 0.6371\t metrics: <function accuracy at 0x7f79289a3ac0>: 0.6484\t \n",
      " Validation loss: 0.6555\t metrics: <function accuracy at 0x7f79289a3ac0>: 0.6536\t \n",
      "Epoch: 4\t Train loss: 0.6293\t metrics: <function accuracy at 0x7f79289a3ac0>: 0.651\t \n",
      " Validation loss: 0.6834\t metrics: <function accuracy at 0x7f79289a3ac0>: 0.6398\t \n",
      "Test loss: 0.7111\t metrics: <function accuracy at 0x7f79289a3ac0>: 0.6183\t\n"
     ]
    }
   ],
   "source": [
    "train_ds, valid_ds, test_ds = get_sentiment_detection_dataset(5000)\n",
    "\n",
    "BATCH = 64\n",
    "\n",
    "train_dl = DataLoader(dataset=train_ds, batch_size=BATCH, drop_last=True, shuffle=True)\n",
    "valid_dl = DataLoader(dataset=valid_ds, batch_size=BATCH, drop_last=True, shuffle=False)\n",
    "test_dl = DataLoader(dataset=test_ds, batch_size=BATCH, drop_last=False, shuffle=False)\n",
    "\n",
    "LR = 0.001\n",
    "\n",
    "model = ALMBert(2)\n",
    "optimizer = torch.optim.Adam(model.parameters(), lr=LR)\n",
    "criterion = nn.functional.cross_entropy\n",
    "metrics = [\n",
    "    torchmetrics.functional.accuracy,\n",
    "]\n",
    "\n",
    "trainer = Trainer(\n",
    "    model=model,\n",
    "    optim=optimizer,\n",
    "    loss=criterion,\n",
    "    verbose=True,\n",
    "    metrics=metrics,\n",
    "    train_dataloader=train_dl,\n",
    "    valid_dataloader=valid_dl,\n",
    "    test_dataloader=test_dl\n",
    ")\n",
    "\n",
    "trainer.train(100)"
   ]
  },
  {
   "cell_type": "code",
   "execution_count": null,
   "metadata": {},
   "outputs": [],
   "source": []
  }
 ],
 "metadata": {
  "kernelspec": {
   "display_name": "ssne",
   "language": "python",
   "name": "python3"
  },
  "language_info": {
   "codemirror_mode": {
    "name": "ipython",
    "version": 3
   },
   "file_extension": ".py",
   "mimetype": "text/x-python",
   "name": "python",
   "nbconvert_exporter": "python",
   "pygments_lexer": "ipython3",
   "version": "3.10.4"
  },
  "orig_nbformat": 4,
  "vscode": {
   "interpreter": {
    "hash": "2a38050f8ca24262ead381cbc68a5f26ee5ce1e0f01d0472f124efe95ebd2613"
   }
  }
 },
 "nbformat": 4,
 "nbformat_minor": 2
}
